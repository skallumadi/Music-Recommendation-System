{
 "cells": [
  {
   "cell_type": "markdown",
   "metadata": {},
   "source": [
    "# Music Recommender System using Apache Spark and Python\n",
    "**Estimated time: 8hrs**\n",
    "\n",
    "## Description\n",
    "\n",
    "For this project, you are to create a recommender system that will recommend new musical artists to a user based on their listening history. Suggesting different songs or musical artists to a user is important to many music streaming services, such as Pandora and Spotify. In addition, this type of recommender system could also be used as a means of suggesting TV shows or movies to a user (e.g., Netflix). \n",
    "\n",
    "To create this system you will be using Spark and the collaborative filtering technique. The instructions for completing this project will be laid out entirely in this file. You will have to implement any missing code as well as answer any questions.\n",
    "\n",
    "**Submission Instructions:** \n",
    "* Add all of your updates to this IPython file and do not clear any of the output you get from running your code.\n",
    "* Upload this file onto moodle.\n",
    "\n",
    "## Datasets\n",
    "\n",
    "You will be using some publicly available song data from audioscrobbler, which can be found [here](http://www-etud.iro.umontreal.ca/~bergstrj/audioscrobbler_data.html). However, we modified the original data files so that the code will run in a reasonable time on a single machine. The reduced data files have been suffixed with `_small.txt` and contains only the information relevant to the top 50 most prolific users (highest artist play counts).\n",
    "\n",
    "The original data file `user_artist_data.txt` contained about 141,000 unique users, and 1.6 million unique artists. About 24.2 million users’ plays of artists are recorded, along with their count.\n",
    "\n",
    "Note that when plays are scribbled, the client application submits the name of the artist being played. This name could be misspelled or nonstandard, and this may only be detected later. For example, \"The Smiths\", \"Smiths, The\", and \"the smiths\" may appear as distinct artist IDs in the data set, even though they clearly refer to the same artist. So, the data set includes `artist_alias.txt`, which maps artist IDs that are known misspellings or variants to the canonical ID of that artist.\n",
    "\n",
    "The `artist_data.txt` file then provides a map from the canonical artist ID to the name of the artist."
   ]
  },
  {
   "cell_type": "markdown",
   "metadata": {},
   "source": [
    "## Necessary Package Imports"
   ]
  },
  {
   "cell_type": "code",
   "execution_count": 61,
   "metadata": {
    "collapsed": true
   },
   "outputs": [],
   "source": [
    "from pyspark.mllib.recommendation import *\n",
    "import random\n",
    "from operator import *"
   ]
  },
  {
   "cell_type": "markdown",
   "metadata": {},
   "source": [
    "## Loading data\n",
    "\n",
    "Load the three datasets into RDDs and name them `artistData`, `artistAlias`, and `userArtistData`. View the README, or the files themselves, to see how this data is formated. Some of the files have tab delimeters while some have space delimiters. Make sure that your `userArtistData` RDD contains only the canonical artist IDs."
   ]
  },
  {
   "cell_type": "code",
   "execution_count": 62,
   "metadata": {
    "collapsed": false
   },
   "outputs": [],
   "source": [
    "artistAliasSet = sc.textFile(\"/home/sud/Desktop/01.Apache.Spark.Project-1.RecommenderSystems.FINAL/artist_alias_small.txt\")\n",
    "artistDataSet = sc.textFile(\"/home/sud/Desktop/01.Apache.Spark.Project-1.RecommenderSystems.FINAL/artist_data_small.txt\")\n",
    "userArtistDataSet = sc.textFile(\"/home/sud/Desktop/01.Apache.Spark.Project-1.RecommenderSystems.FINAL/user_artist_data_small.txt\")\n",
    "\n",
    "def parserArtistAlias(str):\n",
    "    tup = '';\n",
    "    tup = str.split(\"\\t\")\n",
    "    tup_list = [int(tup[0]), int(tup[1])]\n",
    "    return tuple(tup_list)\n",
    "def parserArtistData(str):\n",
    "    tup = '';\n",
    "    tup = str.split(\"\\t\")\n",
    "    tup_list = [int(tup[0]), tup[1]]\n",
    "    return tuple(tup_list)\n",
    "def parserUserArtistData(str):\n",
    "    tup = '';\n",
    "    tup = str.split(\" \")\n",
    "    tup_list = [int(tup[0]), int(tup[1]), int(tup[2])]\n",
    "    return tuple(tup_list)\n",
    "artistAlias = artistAliasSet.map(parserArtistAlias).map(lambda l: (l[0],l[1]))\n",
    "artistData = artistDataSet.map(parserArtistData).map(lambda l: (l[0],l[1]))\n",
    "userArtistDataTemp = userArtistDataSet.map(parserUserArtistData).map(lambda l: (l[0],l[1],l[2]))\n"
   ]
  },
  {
   "cell_type": "markdown",
   "metadata": {},
   "source": [
    "## Data Exploration\n",
    "\n",
    "In the blank below, write some code that with find the users' total play counts. Find the three users with the highest number of total play counts (sum of all counters) and print the user ID, the total play count, and the mean play count (average number of times a user played an artist). Your output should look as follows:\n",
    "```\n",
    "User 1059637 has a total play count of 674412 and a mean play count of 1878.\n",
    "User 2064012 has a total play count of 548427 and a mean play count of 9455.\n",
    "User 2069337 has a total play count of 393515 and a mean play count of 1519.\n",
    "```\n"
   ]
  },
  {
   "cell_type": "code",
   "execution_count": 63,
   "metadata": {
    "collapsed": false
   },
   "outputs": [
    {
     "name": "stdout",
     "output_type": "stream",
     "text": [
      "User 1059637 has a total play count of 674412 and a mean play count of 1878.\n",
      "User 2064012 has a total play count of 548427 and a mean play count of 9455.\n",
      "User 2069337 has a total play count of 393515 and a mean play count of 1519.\n"
     ]
    }
   ],
   "source": [
    "artistAliasDict = artistAlias.collectAsMap()\n",
    "\n",
    "def replace_key(val):\n",
    "    my_val = ''\n",
    "    if val in artistAliasDict.keys():\n",
    "        my_val = artistAliasDict[val]\n",
    "    else:\n",
    "        my_val = val\n",
    "    return my_val\n",
    "\n",
    "\n",
    "userArtistData = userArtistDataTemp.map(lambda x:(x[0], replace_key(x[1]),x[2]))\n",
    "\n",
    "def calculateSum(list):\n",
    "    sum = 0\n",
    "    second_elts = [x[1] for x in list]\n",
    "    for a in second_elts:\n",
    "        sum = sum+a\n",
    "    return sum\n",
    "\n",
    "def calculateMean(list):\n",
    "    sum = 0\n",
    "    second_elts = [x[1] for x in list]\n",
    "    for a in second_elts:\n",
    "        sum = sum+a\n",
    "    return sum/len(second_elts)\n",
    "\n",
    "#userArtistData.coalesce(1).saveAsTextFile(\"tempUserData\")\n",
    "\n",
    "temp = userArtistData.map(lambda x : (x[0], (x[1],x[2]))).groupByKey()\n",
    "\n",
    "temp1 = temp.map(lambda x: (x[0],calculateSum(list(x[1])), calculateMean(list(x[1])) ))\n",
    "\n",
    "newList = temp1.takeOrdered(3, key=lambda x: -x[1])\n",
    "\n",
    "for i in range(0,3):\n",
    "    print \"User \" + str(newList[i][0]) + \" has a total play count of \" + str(newList[i][1]) +\" and a mean play count of \" + str(int(newList[i][2])) +\".\""
   ]
  },
  {
   "cell_type": "markdown",
   "metadata": {},
   "source": [
    "####  Splitting Data for Testing\n",
    "\n",
    "Use the [randomSplit](http://spark.apache.org/docs/latest/api/python/pyspark.html#pyspark.RDD.randomSplit) function to divide the data (`userArtistData`) into:\n",
    "* A training set, `trainData`, that will be used to train the model. This set should constitute 40% of the data.\n",
    "* A validation set, `validationData`, used to perform parameter tuning. This set should constitute 40% of the data.\n",
    "* A test set, `testData`, used for a final evaluation of the model. This set should constitute 20% of the data.\n",
    "\n",
    "Use a random seed value of 13. Since these datasets will be repeatedly used you will probably want to persist them in memory using the [cache](http://spark.apache.org/docs/latest/api/python/pyspark.html#pyspark.RDD.cache) function.\n",
    "\n",
    "In addition, print out the first 3 elements of each set as well as their sizes; if you created these sets correctly, your output should look as follows:\n",
    "```\n",
    "[(1059637, 1000049, 1), (1059637, 1000056, 1), (1059637, 1000113, 5)]\n",
    "[(1059637, 1000010, 238), (1059637, 1000062, 11), (1059637, 1000112, 423)]\n",
    "[(1059637, 1000094, 1), (1059637, 1000130, 19129), (1059637, 1000139, 4)]\n",
    "19817\n",
    "19633\n",
    "10031\n",
    "```"
   ]
  },
  {
   "cell_type": "code",
   "execution_count": 64,
   "metadata": {
    "collapsed": false
   },
   "outputs": [
    {
     "name": "stdout",
     "output_type": "stream",
     "text": [
      "[(1059637, 1000049, 1), (1059637, 1000056, 1), (1059637, 1000113, 5)]\n",
      "[(1059637, 1000010, 238), (1059637, 1000062, 11), (1059637, 1000112, 423)]\n",
      "[(1059637, 1000094, 1), (1059637, 1000130, 19129), (1059637, 1000139, 4)]\n",
      "19817\n",
      "19633\n",
      "10031\n"
     ]
    }
   ],
   "source": [
    "trainData, validationData, testData = userArtistDataSet.map(parserUserArtistData).map(lambda l: (l[0],l[1],l[2])).randomSplit([4,4,2],13)\n",
    "trainData.cache()\n",
    "validationData.cache()\n",
    "testData.cache()\n",
    "\n",
    "print(trainData.take(3))\n",
    "print(validationData.take(3))\n",
    "print(testData.take(3))\n",
    "print(len(trainData.collect()))\n",
    "print(len(validationData.collect()))\n",
    "print(len(testData.collect()))"
   ]
  },
  {
   "cell_type": "markdown",
   "metadata": {},
   "source": [
    "## The Recommender Model\n",
    "\n",
    "For this project, we will train the model with implicit feedback. You can read more information about this from the collaborative filtering page: [http://spark.apache.org/docs/latest/mllib-collaborative-filtering.html](http://spark.apache.org/docs/latest/mllib-collaborative-filtering.html). The [function you will be using](http://spark.apache.org/docs/latest/api/python/pyspark.mllib.html#pyspark.mllib.recommendation.ALS.trainImplicit) has a few tunable parameters that will affect how the model is built. Therefore, to get the best model, we will do a small parameter sweep and choose the model that performs the best on the validation set\n",
    "\n",
    "Therefore, we must first devise a way to evaluate models. Once we have a method for evaluation, we can run a parameter sweep, evaluate each combination of parameters on the validation data, and choose the optimal set of parameters. The parameters then can be used to make predictions on the test data.\n",
    "\n",
    "### Model Evaluation\n",
    "\n",
    "Although there may be several ways to evaluate a model, we will use a simple method here. Suppose we have a model and some dataset of *true* artist plays for a set of users. This model can be used to predict the top X artist recommendations for a user and these recommendations can be compared the artists that the user actually listened to (here, X will be the number of artists in the dataset of *true* artist plays). Then, the fraction of overlap between the top X predictions of the model and the X artists that the user actually listened to can be calculated. This process can be repeated for all users and an average value returned.\n",
    "\n",
    "For example, suppose a model predicted [1,2,4,8] as the top X=4 artists for a user. Suppose, that user actually listened to the artists [1,3,7,8]. Then, for this user, the model would have a score of 2/4=0.5. To get the overall score, this would be performed for all users, with the average returned.\n",
    "\n",
    "**NOTE: when using the model to predict the top-X artists for a user, do not include the artists listed with that user in the training data.**\n",
    "\n",
    "Name your function `modelEval` and have it take a model (the output of ALS.trainImplicit) and a dataset as input. For parameter tuning, the dataset parameter should be set to the validation data (`validationData`). After parameter tuning, the model can be evaluated on the test data (`testData`)."
   ]
  },
  {
   "cell_type": "code",
   "execution_count": 65,
   "metadata": {
    "collapsed": true
   },
   "outputs": [],
   "source": [
    "def modelEval(model,dataset):\n",
    "    trueArtists = dataset.map(lambda x:(x[0],x[1])).groupByKey()\n",
    "    allArtists = userArtistDataTemp.map(lambda x:(x[1])).distinct()\n",
    "    score_list = []\n",
    "    for artist in trueArtists.collect():\n",
    "        nonTrainArtists = allArtists.subtract(trainData.filter(lambda x : (x[0] == artist[0])).map(lambda x:(x[1])))\n",
    "        nonTrainArtists = nonTrainArtists.map(lambda x : (artist[0],x))\n",
    "        predictedResults = model.predictAll(nonTrainArtists).map(lambda r: (r[0], r[1], r[2]))\n",
    "        recommendations =  sc.parallelize(predictedResults.takeOrdered(len(artist[1]), key=lambda x: -x[2])).map(lambda x : x[1])\n",
    "        score_list.append(calculate_score(artist[1], recommendations))\n",
    "    return sum(score_list)/len(score_list)\n",
    "\n",
    "def calculate_score(actual_list, predicted_list):\n",
    "    score = float(sc.parallelize(actual_list).intersection(predicted_list).count())/float(len(actual_list))\n",
    "    return score"
   ]
  },
  {
   "cell_type": "markdown",
   "metadata": {},
   "source": [
    "### Model Construction\n",
    "\n",
    "Now we can build the best model possibly using the validation set of data and the `modelEval` function. Although, there are a few parameters we could optimize, for the sake of time, we will just try a few different values for the [rank parameter](http://spark.apache.org/docs/latest/mllib-collaborative-filtering.html#collaborative-filtering) (leave everything else at its default value, **except make `seed`=345**). Loop through the values [2, 10, 20] and figure out which one produces the highest scored based on your model evaluation function.\n",
    "\n",
    "Note: this procedure may take several minutes to run.\n",
    "\n",
    "For each rank value, print out the output of the `modelEval` function for that model. Your output should look as follows:\n",
    "```\n",
    "The model score for rank 2 is 0.090431\n",
    "The model score for rank 10 is 0.095294\n",
    "The model score for rank 20 is 0.090248\n",
    "```"
   ]
  },
  {
   "cell_type": "code",
   "execution_count": 66,
   "metadata": {
    "collapsed": false
   },
   "outputs": [
    {
     "name": "stdout",
     "output_type": "stream",
     "text": [
      "The model score for rank 2 is 0.0904308588871\n",
      "The model score for rank 10 is 0.0952938950541\n",
      "The model score for rank 20 is 0.0902480866808\n"
     ]
    }
   ],
   "source": [
    "for rank in [2,10,20]:\n",
    "    model = ALS.trainImplicit(trainData, rank=rank, seed=345)\n",
    "    mean = modelEval(model, validationData)\n",
    "    print \"The model score for rank \" + str(rank) +\" is \" + str(mean)"
   ]
  },
  {
   "cell_type": "markdown",
   "metadata": {},
   "source": [
    "Now, using the bestModel, we will check the results over the test data. Your result should be ~`0.0507`."
   ]
  },
  {
   "cell_type": "code",
   "execution_count": 67,
   "metadata": {
    "collapsed": false
   },
   "outputs": [
    {
     "data": {
      "text/plain": [
       "0.050731430151914746"
      ]
     },
     "execution_count": 67,
     "metadata": {},
     "output_type": "execute_result"
    }
   ],
   "source": [
    "bestModel = ALS.trainImplicit(trainData, rank=10, seed=345)\n",
    "modelEval(bestModel, testData)"
   ]
  },
  {
   "cell_type": "markdown",
   "metadata": {},
   "source": [
    "## Trying Some Artist Recommendations\n",
    "Using the best model above, predict the top 5 artists for user `1059637` using the [recommendProducts](http://spark.apache.org/docs/1.5.2/api/python/pyspark.mllib.html#pyspark.mllib.recommendation.MatrixFactorizationModel.recommendProducts) function. Map the results (integer IDs) into the real artist name using `artistAlias`. Print the results. The output should look as follows:\n",
    "```\n",
    "Artist 0: Brand New\n",
    "Artist 1: Taking Back Sunday\n",
    "Artist 2: Evanescence\n",
    "Artist 3: Elliott Smith\n",
    "Artist 4: blink-182\n",
    "```"
   ]
  },
  {
   "cell_type": "code",
   "execution_count": 68,
   "metadata": {
    "collapsed": false
   },
   "outputs": [
    {
     "name": "stdout",
     "output_type": "stream",
     "text": [
      "Artist 0: Brand New\n",
      "Artist 1: Taking Back Sunday\n",
      "Artist 2: Evanescence\n",
      "Artist 3: Elliott Smith\n",
      "Artist 4: blink-182\n"
     ]
    }
   ],
   "source": [
    "artistPredicted = sc.parallelize(bestModel.recommendProducts(1059637,5)).map(lambda x : (x[1])).collect()\n",
    "i = 0\n",
    "artistMap = artistData.collectAsMap()\n",
    "for artist in artistPredicted:\n",
    "    print(\"Artist \" + str(i) + \": \" + artistMap[artist])\n",
    "    i = i+1"
   ]
  },
  {
   "cell_type": "code",
   "execution_count": null,
   "metadata": {
    "collapsed": true
   },
   "outputs": [],
   "source": []
  }
 ],
 "metadata": {
  "kernelspec": {
   "display_name": "Python 2",
   "language": "python",
   "name": "python2"
  },
  "language_info": {
   "codemirror_mode": {
    "name": "ipython",
    "version": 2
   },
   "file_extension": ".py",
   "mimetype": "text/x-python",
   "name": "python",
   "nbconvert_exporter": "python",
   "pygments_lexer": "ipython2",
   "version": "2.7.6"
  }
 },
 "nbformat": 4,
 "nbformat_minor": 0
}
